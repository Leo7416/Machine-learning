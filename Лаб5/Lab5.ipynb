{
  "cells": [
    {
      "cell_type": "markdown",
      "metadata": {
        "id": "eDq2mCfdEqfL"
      },
      "source": [
        "Жданова ИУ5-64Б"
      ]
    },
    {
      "cell_type": "markdown",
      "metadata": {
        "id": "wQ0GFcP2EtwY"
      },
      "source": [
        "# Лабораторная работа 5\n",
        "# Ансамбли моделей машинного обучения.\n",
        "# Задание\n",
        "1. Выберите набор данных (датасет) для решения задачи классификации или регресии.\n",
        "2. В случае необходимости проведите удаление или заполнение пропусков и кодирование категориальных признаков.\n",
        "3. С использованием метода train_test_split разделите выборку на обучающую и тестовую.\n",
        "4. Обучите следующие ансамблевые модели:\n",
        "  - две модели группы бэггинга (бэггинг или случайный лес или сверхслучайные деревья);\n",
        "   -AdaBoost;\n",
        "   -градиентный бустинг.\n",
        "5. Оцените качество моделей с помощью одной из подходящих для задачи метрик. Сравните качество полученных моделей.\n"
      ]
    },
    {
      "cell_type": "markdown",
      "metadata": {
        "id": "YPH5kRc8FJvw"
      },
      "source": [
        "# Импорт бибилиотек"
      ]
    },
    {
      "cell_type": "code",
      "execution_count": 99,
      "metadata": {
        "id": "Io7Jmv9aEoia"
      },
      "outputs": [],
      "source": [
        "import numpy as np\n",
        "import pandas as pd\n",
        "import seaborn as sns\n",
        "import matplotlib.pyplot as plt\n",
        "%matplotlib inline\n",
        "sns.set(style=\"ticks\")\n",
        "from sklearn.model_selection import train_test_split\n",
        "from sklearn.compose import ColumnTransformer\n",
        "from sklearn.preprocessing import OneHotEncoder\n",
        "from sklearn.pipeline import Pipeline\n",
        "from sklearn.ensemble import BaggingClassifier\n",
        "from sklearn.ensemble import RandomForestClassifier\n",
        "from sklearn.ensemble import AdaBoostClassifier\n",
        "from sklearn.ensemble import GradientBoostingClassifier\n",
        "from sklearn.metrics import accuracy_score\n",
        "from sklearn.metrics import precision_score, recall_score, f1_score, classification_report\n",
        "from sklearn.preprocessing import LabelEncoder\n",
        "from sklearn.ensemble import RandomForestClassifier,GradientBoostingClassifier, StackingClassifier\n",
        "from sklearn.linear_model import LogisticRegression\n",
        "from sklearn.preprocessing import StandardScaler\n",
        "from sklearn.pipeline import make_pipeline\n",
        "from sklearn.svm import SVC"
      ]
    },
    {
      "cell_type": "markdown",
      "metadata": {
        "id": "cJtg0d5vvkdz"
      },
      "source": [
        "# Импорт данных"
      ]
    },
    {
      "cell_type": "code",
      "execution_count": 100,
      "metadata": {
        "id": "wP0ynVkovusk"
      },
      "outputs": [],
      "source": [
        "data = pd.read_csv('C:\\\\Users\\\\adolf\\\\Downloads\\\\Fuel.csv', encoding = 'ISO-8859-1')"
      ]
    },
    {
      "cell_type": "code",
      "execution_count": 101,
      "metadata": {
        "colab": {
          "base_uri": "https://localhost:8080/",
          "height": 206
        },
        "id": "DH74WdnQwQ4s",
        "outputId": "8707f83f-9e8a-4338-d344-9ebede0efb2d"
      },
      "outputs": [
        {
          "data": {
            "text/html": [
              "<div>\n",
              "<style scoped>\n",
              "    .dataframe tbody tr th:only-of-type {\n",
              "        vertical-align: middle;\n",
              "    }\n",
              "\n",
              "    .dataframe tbody tr th {\n",
              "        vertical-align: top;\n",
              "    }\n",
              "\n",
              "    .dataframe thead th {\n",
              "        text-align: right;\n",
              "    }\n",
              "</style>\n",
              "<table border=\"1\" class=\"dataframe\">\n",
              "  <thead>\n",
              "    <tr style=\"text-align: right;\">\n",
              "      <th></th>\n",
              "      <th>Model Year</th>\n",
              "      <th>Make</th>\n",
              "      <th>Model</th>\n",
              "      <th>Vehicle Class</th>\n",
              "      <th>Engine Size(L)</th>\n",
              "      <th>Cylinders</th>\n",
              "      <th>Transmission</th>\n",
              "      <th>Fuel Type</th>\n",
              "      <th>Fuel Consumption (City (L/100 km)</th>\n",
              "      <th>Fuel Consumption(Hwy (L/100 km))</th>\n",
              "      <th>Fuel Consumption(Comb (L/100 km))</th>\n",
              "      <th>Fuel Consumption(Comb (mpg))</th>\n",
              "      <th>CO2 Emissions(g/km)</th>\n",
              "      <th>CO2 Rating</th>\n",
              "      <th>Smog Rating</th>\n",
              "    </tr>\n",
              "  </thead>\n",
              "  <tbody>\n",
              "    <tr>\n",
              "      <th>0</th>\n",
              "      <td>2022</td>\n",
              "      <td>Acura</td>\n",
              "      <td>ILX</td>\n",
              "      <td>Compact</td>\n",
              "      <td>2.4</td>\n",
              "      <td>4</td>\n",
              "      <td>AM8</td>\n",
              "      <td>Z</td>\n",
              "      <td>9.9</td>\n",
              "      <td>7.0</td>\n",
              "      <td>8.6</td>\n",
              "      <td>33</td>\n",
              "      <td>200</td>\n",
              "      <td>6</td>\n",
              "      <td>3</td>\n",
              "    </tr>\n",
              "    <tr>\n",
              "      <th>1</th>\n",
              "      <td>2022</td>\n",
              "      <td>Acura</td>\n",
              "      <td>MDX SH-AWD</td>\n",
              "      <td>SUV: Small</td>\n",
              "      <td>3.5</td>\n",
              "      <td>6</td>\n",
              "      <td>AS10</td>\n",
              "      <td>Z</td>\n",
              "      <td>12.6</td>\n",
              "      <td>9.4</td>\n",
              "      <td>11.2</td>\n",
              "      <td>25</td>\n",
              "      <td>263</td>\n",
              "      <td>4</td>\n",
              "      <td>5</td>\n",
              "    </tr>\n",
              "    <tr>\n",
              "      <th>2</th>\n",
              "      <td>2022</td>\n",
              "      <td>Acura</td>\n",
              "      <td>RDX SH-AWD</td>\n",
              "      <td>SUV: Small</td>\n",
              "      <td>2.0</td>\n",
              "      <td>4</td>\n",
              "      <td>AS10</td>\n",
              "      <td>Z</td>\n",
              "      <td>11.0</td>\n",
              "      <td>8.6</td>\n",
              "      <td>9.9</td>\n",
              "      <td>29</td>\n",
              "      <td>232</td>\n",
              "      <td>5</td>\n",
              "      <td>6</td>\n",
              "    </tr>\n",
              "    <tr>\n",
              "      <th>3</th>\n",
              "      <td>2022</td>\n",
              "      <td>Acura</td>\n",
              "      <td>RDX SH-AWD A-SPEC</td>\n",
              "      <td>SUV: Small</td>\n",
              "      <td>2.0</td>\n",
              "      <td>4</td>\n",
              "      <td>AS10</td>\n",
              "      <td>Z</td>\n",
              "      <td>11.3</td>\n",
              "      <td>9.1</td>\n",
              "      <td>10.3</td>\n",
              "      <td>27</td>\n",
              "      <td>242</td>\n",
              "      <td>5</td>\n",
              "      <td>6</td>\n",
              "    </tr>\n",
              "    <tr>\n",
              "      <th>4</th>\n",
              "      <td>2022</td>\n",
              "      <td>Acura</td>\n",
              "      <td>TLX SH-AWD</td>\n",
              "      <td>Compact</td>\n",
              "      <td>2.0</td>\n",
              "      <td>4</td>\n",
              "      <td>AS10</td>\n",
              "      <td>Z</td>\n",
              "      <td>11.2</td>\n",
              "      <td>8.0</td>\n",
              "      <td>9.8</td>\n",
              "      <td>29</td>\n",
              "      <td>230</td>\n",
              "      <td>5</td>\n",
              "      <td>7</td>\n",
              "    </tr>\n",
              "  </tbody>\n",
              "</table>\n",
              "</div>"
            ],
            "text/plain": [
              "   Model Year   Make              Model Vehicle Class  Engine Size(L)  \\\n",
              "0        2022  Acura                ILX       Compact             2.4   \n",
              "1        2022  Acura         MDX SH-AWD    SUV: Small             3.5   \n",
              "2        2022  Acura         RDX SH-AWD    SUV: Small             2.0   \n",
              "3        2022  Acura  RDX SH-AWD A-SPEC    SUV: Small             2.0   \n",
              "4        2022  Acura         TLX SH-AWD       Compact             2.0   \n",
              "\n",
              "   Cylinders Transmission Fuel Type  Fuel Consumption (City (L/100 km)  \\\n",
              "0          4          AM8         Z                                9.9   \n",
              "1          6         AS10         Z                               12.6   \n",
              "2          4         AS10         Z                               11.0   \n",
              "3          4         AS10         Z                               11.3   \n",
              "4          4         AS10         Z                               11.2   \n",
              "\n",
              "   Fuel Consumption(Hwy (L/100 km))  Fuel Consumption(Comb (L/100 km))  \\\n",
              "0                               7.0                                8.6   \n",
              "1                               9.4                               11.2   \n",
              "2                               8.6                                9.9   \n",
              "3                               9.1                               10.3   \n",
              "4                               8.0                                9.8   \n",
              "\n",
              "   Fuel Consumption(Comb (mpg))  CO2 Emissions(g/km)  CO2 Rating  Smog Rating  \n",
              "0                            33                  200           6            3  \n",
              "1                            25                  263           4            5  \n",
              "2                            29                  232           5            6  \n",
              "3                            27                  242           5            6  \n",
              "4                            29                  230           5            7  "
            ]
          },
          "execution_count": 101,
          "metadata": {},
          "output_type": "execute_result"
        }
      ],
      "source": [
        "data.head()"
      ]
    },
    {
      "cell_type": "markdown",
      "metadata": {
        "id": "98nwJnXjwa2l"
      },
      "source": [
        "# Обработка данных"
      ]
    },
    {
      "cell_type": "markdown",
      "metadata": {
        "id": "eZcgY11gLBpI"
      },
      "source": [
        "Типы данных в представленном датасете:"
      ]
    },
    {
      "cell_type": "code",
      "execution_count": 102,
      "metadata": {
        "colab": {
          "base_uri": "https://localhost:8080/"
        },
        "id": "YyuJbD_FKeE3",
        "outputId": "8e9cde88-6420-4856-b600-906d6b2fd8ce"
      },
      "outputs": [
        {
          "data": {
            "text/plain": [
              "Model Year                             int64\n",
              "Make                                  object\n",
              "Model                                 object\n",
              "Vehicle Class                         object\n",
              "Engine Size(L)                       float64\n",
              "Cylinders                              int64\n",
              "Transmission                          object\n",
              "Fuel Type                             object\n",
              "Fuel Consumption (City (L/100 km)    float64\n",
              "Fuel Consumption(Hwy (L/100 km))     float64\n",
              "Fuel Consumption(Comb (L/100 km))    float64\n",
              "Fuel Consumption(Comb (mpg))           int64\n",
              "CO2 Emissions(g/km)                    int64\n",
              "CO2 Rating                             int64\n",
              "Smog Rating                            int64\n",
              "dtype: object"
            ]
          },
          "execution_count": 102,
          "metadata": {},
          "output_type": "execute_result"
        }
      ],
      "source": [
        "data.dtypes"
      ]
    },
    {
      "cell_type": "markdown",
      "metadata": {
        "id": "v3IU4U9KK5OV"
      },
      "source": [
        "Проверим, есть ли в датасете пропущенные значения:"
      ]
    },
    {
      "cell_type": "code",
      "execution_count": 103,
      "metadata": {
        "colab": {
          "base_uri": "https://localhost:8080/"
        },
        "id": "tzz1OFNxKgen",
        "outputId": "94f658ee-a62c-4731-9f30-2004aee5baa7"
      },
      "outputs": [
        {
          "data": {
            "text/plain": [
              "Model Year                           0\n",
              "Make                                 0\n",
              "Model                                0\n",
              "Vehicle Class                        0\n",
              "Engine Size(L)                       0\n",
              "Cylinders                            0\n",
              "Transmission                         0\n",
              "Fuel Type                            0\n",
              "Fuel Consumption (City (L/100 km)    0\n",
              "Fuel Consumption(Hwy (L/100 km))     0\n",
              "Fuel Consumption(Comb (L/100 km))    0\n",
              "Fuel Consumption(Comb (mpg))         0\n",
              "CO2 Emissions(g/km)                  0\n",
              "CO2 Rating                           0\n",
              "Smog Rating                          0\n",
              "dtype: int64"
            ]
          },
          "execution_count": 103,
          "metadata": {},
          "output_type": "execute_result"
        }
      ],
      "source": [
        "data.isnull().sum()"
      ]
    },
    {
      "cell_type": "markdown",
      "metadata": {
        "id": "f3XJEWUyLyLk"
      },
      "source": [
        "В данном датасете нет строк или столбцов, содержащих пропущенные значения."
      ]
    },
    {
      "cell_type": "code",
      "execution_count": 104,
      "metadata": {
        "colab": {
          "base_uri": "https://localhost:8080/"
        },
        "id": "N2da_Ft5aiTk",
        "outputId": "8ce5a724-3d77-4ec3-e040-1794d289c61a"
      },
      "outputs": [
        {
          "data": {
            "text/plain": [
              "['Model Year',\n",
              " 'Make',\n",
              " 'Model',\n",
              " 'Vehicle Class',\n",
              " 'Engine Size(L)',\n",
              " 'Cylinders',\n",
              " 'Transmission',\n",
              " 'Fuel Type',\n",
              " 'Fuel Consumption (City (L/100 km)',\n",
              " 'Fuel Consumption(Hwy (L/100 km))',\n",
              " 'Fuel Consumption(Comb (L/100 km))',\n",
              " 'Fuel Consumption(Comb (mpg))',\n",
              " 'CO2 Emissions(g/km)',\n",
              " 'CO2 Rating',\n",
              " 'Smog Rating']"
            ]
          },
          "execution_count": 104,
          "metadata": {},
          "output_type": "execute_result"
        }
      ],
      "source": [
        "data.columns.tolist()"
      ]
    },
    {
      "cell_type": "code",
      "execution_count": 105,
      "metadata": {
        "colab": {
          "base_uri": "https://localhost:8080/",
          "height": 206
        },
        "id": "jmTVAY2_nvfV",
        "outputId": "66af4963-aff5-4da9-e837-aeda4d4128b7"
      },
      "outputs": [
        {
          "data": {
            "text/html": [
              "<div>\n",
              "<style scoped>\n",
              "    .dataframe tbody tr th:only-of-type {\n",
              "        vertical-align: middle;\n",
              "    }\n",
              "\n",
              "    .dataframe tbody tr th {\n",
              "        vertical-align: top;\n",
              "    }\n",
              "\n",
              "    .dataframe thead th {\n",
              "        text-align: right;\n",
              "    }\n",
              "</style>\n",
              "<table border=\"1\" class=\"dataframe\">\n",
              "  <thead>\n",
              "    <tr style=\"text-align: right;\">\n",
              "      <th></th>\n",
              "      <th>Model Year</th>\n",
              "      <th>Make</th>\n",
              "      <th>Model</th>\n",
              "      <th>Vehicle Class</th>\n",
              "      <th>Engine Size(L)</th>\n",
              "      <th>Cylinders</th>\n",
              "      <th>Transmission</th>\n",
              "      <th>Fuel Type</th>\n",
              "      <th>Fuel Consumption (City (L/100 km)</th>\n",
              "      <th>Fuel Consumption(Hwy (L/100 km))</th>\n",
              "      <th>Fuel Consumption(Comb (L/100 km))</th>\n",
              "      <th>Fuel Consumption(Comb (mpg))</th>\n",
              "      <th>CO2 Emissions(g/km)</th>\n",
              "      <th>CO2 Rating</th>\n",
              "      <th>Smog Rating</th>\n",
              "    </tr>\n",
              "  </thead>\n",
              "  <tbody>\n",
              "    <tr>\n",
              "      <th>0</th>\n",
              "      <td>2022</td>\n",
              "      <td>Acura</td>\n",
              "      <td>ILX</td>\n",
              "      <td>Compact</td>\n",
              "      <td>2.4</td>\n",
              "      <td>4</td>\n",
              "      <td>AM8</td>\n",
              "      <td>Z</td>\n",
              "      <td>9.9</td>\n",
              "      <td>7.0</td>\n",
              "      <td>8.6</td>\n",
              "      <td>33</td>\n",
              "      <td>200</td>\n",
              "      <td>6</td>\n",
              "      <td>3</td>\n",
              "    </tr>\n",
              "    <tr>\n",
              "      <th>1</th>\n",
              "      <td>2022</td>\n",
              "      <td>Acura</td>\n",
              "      <td>MDX SH-AWD</td>\n",
              "      <td>SUV: Small</td>\n",
              "      <td>3.5</td>\n",
              "      <td>6</td>\n",
              "      <td>AS10</td>\n",
              "      <td>Z</td>\n",
              "      <td>12.6</td>\n",
              "      <td>9.4</td>\n",
              "      <td>11.2</td>\n",
              "      <td>25</td>\n",
              "      <td>263</td>\n",
              "      <td>4</td>\n",
              "      <td>5</td>\n",
              "    </tr>\n",
              "    <tr>\n",
              "      <th>2</th>\n",
              "      <td>2022</td>\n",
              "      <td>Acura</td>\n",
              "      <td>RDX SH-AWD</td>\n",
              "      <td>SUV: Small</td>\n",
              "      <td>2.0</td>\n",
              "      <td>4</td>\n",
              "      <td>AS10</td>\n",
              "      <td>Z</td>\n",
              "      <td>11.0</td>\n",
              "      <td>8.6</td>\n",
              "      <td>9.9</td>\n",
              "      <td>29</td>\n",
              "      <td>232</td>\n",
              "      <td>5</td>\n",
              "      <td>6</td>\n",
              "    </tr>\n",
              "    <tr>\n",
              "      <th>3</th>\n",
              "      <td>2022</td>\n",
              "      <td>Acura</td>\n",
              "      <td>RDX SH-AWD A-SPEC</td>\n",
              "      <td>SUV: Small</td>\n",
              "      <td>2.0</td>\n",
              "      <td>4</td>\n",
              "      <td>AS10</td>\n",
              "      <td>Z</td>\n",
              "      <td>11.3</td>\n",
              "      <td>9.1</td>\n",
              "      <td>10.3</td>\n",
              "      <td>27</td>\n",
              "      <td>242</td>\n",
              "      <td>5</td>\n",
              "      <td>6</td>\n",
              "    </tr>\n",
              "    <tr>\n",
              "      <th>4</th>\n",
              "      <td>2022</td>\n",
              "      <td>Acura</td>\n",
              "      <td>TLX SH-AWD</td>\n",
              "      <td>Compact</td>\n",
              "      <td>2.0</td>\n",
              "      <td>4</td>\n",
              "      <td>AS10</td>\n",
              "      <td>Z</td>\n",
              "      <td>11.2</td>\n",
              "      <td>8.0</td>\n",
              "      <td>9.8</td>\n",
              "      <td>29</td>\n",
              "      <td>230</td>\n",
              "      <td>5</td>\n",
              "      <td>7</td>\n",
              "    </tr>\n",
              "  </tbody>\n",
              "</table>\n",
              "</div>"
            ],
            "text/plain": [
              "   Model Year   Make              Model Vehicle Class  Engine Size(L)  \\\n",
              "0        2022  Acura                ILX       Compact             2.4   \n",
              "1        2022  Acura         MDX SH-AWD    SUV: Small             3.5   \n",
              "2        2022  Acura         RDX SH-AWD    SUV: Small             2.0   \n",
              "3        2022  Acura  RDX SH-AWD A-SPEC    SUV: Small             2.0   \n",
              "4        2022  Acura         TLX SH-AWD       Compact             2.0   \n",
              "\n",
              "   Cylinders Transmission Fuel Type  Fuel Consumption (City (L/100 km)  \\\n",
              "0          4          AM8         Z                                9.9   \n",
              "1          6         AS10         Z                               12.6   \n",
              "2          4         AS10         Z                               11.0   \n",
              "3          4         AS10         Z                               11.3   \n",
              "4          4         AS10         Z                               11.2   \n",
              "\n",
              "   Fuel Consumption(Hwy (L/100 km))  Fuel Consumption(Comb (L/100 km))  \\\n",
              "0                               7.0                                8.6   \n",
              "1                               9.4                               11.2   \n",
              "2                               8.6                                9.9   \n",
              "3                               9.1                               10.3   \n",
              "4                               8.0                                9.8   \n",
              "\n",
              "   Fuel Consumption(Comb (mpg))  CO2 Emissions(g/km)  CO2 Rating  Smog Rating  \n",
              "0                            33                  200           6            3  \n",
              "1                            25                  263           4            5  \n",
              "2                            29                  232           5            6  \n",
              "3                            27                  242           5            6  \n",
              "4                            29                  230           5            7  "
            ]
          },
          "execution_count": 105,
          "metadata": {},
          "output_type": "execute_result"
        }
      ],
      "source": [
        "data.head()"
      ]
    },
    {
      "cell_type": "markdown",
      "metadata": {
        "id": "_MOd-_JCbloE"
      },
      "source": [
        "Проверим, содержатся ли в данных дубликаты:"
      ]
    },
    {
      "cell_type": "code",
      "execution_count": 106,
      "metadata": {
        "colab": {
          "base_uri": "https://localhost:8080/"
        },
        "id": "7AZKTWFic0jV",
        "outputId": "7a7f8b6c-7cdc-4c08-bf9f-d07ea08afc22"
      },
      "outputs": [
        {
          "name": "stdout",
          "output_type": "stream",
          "text": [
            "0      False\n",
            "1      False\n",
            "2      False\n",
            "3      False\n",
            "4      False\n",
            "       ...  \n",
            "941    False\n",
            "942    False\n",
            "943    False\n",
            "944    False\n",
            "945    False\n",
            "Length: 946, dtype: bool\n"
          ]
        }
      ],
      "source": [
        "print(data.duplicated())"
      ]
    },
    {
      "cell_type": "code",
      "execution_count": 107,
      "metadata": {
        "colab": {
          "base_uri": "https://localhost:8080/"
        },
        "id": "-af9izm7a_TQ",
        "outputId": "51010d11-47b9-4b4f-e1dd-1c69990a601d"
      },
      "outputs": [
        {
          "name": "stdout",
          "output_type": "stream",
          "text": [
            "Empty DataFrame\n",
            "Columns: [Model Year, Make, Model, Vehicle Class, Engine Size(L), Cylinders, Transmission, Fuel Type, Fuel Consumption (City (L/100 km), Fuel Consumption(Hwy (L/100 km)), Fuel Consumption(Comb (L/100 km)), Fuel Consumption(Comb (mpg)), CO2 Emissions(g/km), CO2 Rating, Smog Rating]\n",
            "Index: []\n"
          ]
        }
      ],
      "source": [
        "duplicate_rows = data[data.duplicated()]\n",
        "print(duplicate_rows)"
      ]
    },
    {
      "cell_type": "markdown",
      "metadata": {
        "id": "zVRO7TrwdRDa"
      },
      "source": [
        "В данном датасете содержатся дубликаты. Удалим эти строки:"
      ]
    },
    {
      "cell_type": "code",
      "execution_count": 108,
      "metadata": {
        "id": "j8__hm3Q2Wqp"
      },
      "outputs": [],
      "source": [
        "data = data.drop_duplicates()"
      ]
    },
    {
      "cell_type": "code",
      "execution_count": 109,
      "metadata": {
        "colab": {
          "base_uri": "https://localhost:8080/"
        },
        "id": "yDUIA_kY2m8q",
        "outputId": "95249801-f06b-4d4f-b248-250d3ed6cbed"
      },
      "outputs": [
        {
          "name": "stdout",
          "output_type": "stream",
          "text": [
            "0      False\n",
            "1      False\n",
            "2      False\n",
            "3      False\n",
            "4      False\n",
            "       ...  \n",
            "941    False\n",
            "942    False\n",
            "943    False\n",
            "944    False\n",
            "945    False\n",
            "Length: 946, dtype: bool\n",
            "Empty DataFrame\n",
            "Columns: [Model Year, Make, Model, Vehicle Class, Engine Size(L), Cylinders, Transmission, Fuel Type, Fuel Consumption (City (L/100 km), Fuel Consumption(Hwy (L/100 km)), Fuel Consumption(Comb (L/100 km)), Fuel Consumption(Comb (mpg)), CO2 Emissions(g/km), CO2 Rating, Smog Rating]\n",
            "Index: []\n"
          ]
        }
      ],
      "source": [
        "print(data.duplicated())\n",
        "duplicate_rows = data[data.duplicated()]\n",
        "print(duplicate_rows)"
      ]
    },
    {
      "cell_type": "markdown",
      "metadata": {
        "id": "faJsOTNX2y3h"
      },
      "source": [
        "Теперь дубликатов нет."
      ]
    },
    {
      "cell_type": "code",
      "execution_count": 110,
      "metadata": {
        "colab": {
          "base_uri": "https://localhost:8080/"
        },
        "id": "rZc_AwqBEPU4",
        "outputId": "fb66c134-f1ab-4f95-abb1-ee407e22c3ea"
      },
      "outputs": [
        {
          "data": {
            "text/plain": [
              "array([ 4,  6,  8, 12, 10,  5, 16,  3], dtype=int64)"
            ]
          },
          "execution_count": 110,
          "metadata": {},
          "output_type": "execute_result"
        }
      ],
      "source": [
        "data['Cylinders'].unique()"
      ]
    },
    {
      "cell_type": "code",
      "execution_count": 111,
      "metadata": {
        "id": "PXKu0mmzEVOR"
      },
      "outputs": [],
      "source": [
        "le = LabelEncoder()\n",
        "data['Cylinders'] = le.fit_transform(data['Cylinders'])"
      ]
    },
    {
      "cell_type": "code",
      "execution_count": 112,
      "metadata": {
        "colab": {
          "base_uri": "https://localhost:8080/"
        },
        "id": "n6Iujl7sEpqy",
        "outputId": "2aff57fc-237d-4f2b-82b7-1710de1d7e5a"
      },
      "outputs": [
        {
          "data": {
            "text/plain": [
              "array([1, 3, 4, 6, 5, 2, 7, 0], dtype=int64)"
            ]
          },
          "execution_count": 112,
          "metadata": {},
          "output_type": "execute_result"
        }
      ],
      "source": [
        "data['Cylinders'].unique()"
      ]
    },
    {
      "cell_type": "code",
      "execution_count": 113,
      "metadata": {},
      "outputs": [],
      "source": [
        "#Удаление ненужных столбцов\n",
        "data = data.drop(columns=[\"Model\", \"Model Year\"], axis=1)"
      ]
    },
    {
      "cell_type": "markdown",
      "metadata": {
        "id": "50AamiM_xJ2o"
      },
      "source": [
        "# Разделение выборки на обучающую и тестовую"
      ]
    },
    {
      "cell_type": "markdown",
      "metadata": {
        "id": "0IuIJqJjxXiI"
      },
      "source": [
        "С использованием метода train_test_split разделим выборку на обучающую и тестовую:"
      ]
    },
    {
      "cell_type": "code",
      "execution_count": 114,
      "metadata": {},
      "outputs": [],
      "source": [
        "#Кодирование категориальных признаков\n",
        "LE = LabelEncoder()\n",
        "for column in [\"Fuel Type\",\"Make\", \"Vehicle Class\", \"Transmission\"]:\n",
        "    data[column] = LE.fit_transform(data[column])"
      ]
    },
    {
      "cell_type": "code",
      "execution_count": 115,
      "metadata": {
        "colab": {
          "base_uri": "https://localhost:8080/"
        },
        "id": "2PYC6Yfw33t0",
        "outputId": "2c633c96-4100-4979-cae9-29e0a67c807d"
      },
      "outputs": [
        {
          "data": {
            "text/plain": [
              "(214, 13)"
            ]
          },
          "execution_count": 115,
          "metadata": {},
          "output_type": "execute_result"
        }
      ],
      "source": [
        "#Выделяем записи, где присутствуют 4 или 6 цилиндров\n",
        "#Для бинарной классификации\n",
        "data = data.loc[data[\"Cylinders\"].isin([4,6])]  \n",
        "data.shape"
      ]
    },
    {
      "cell_type": "code",
      "execution_count": 116,
      "metadata": {
        "colab": {
          "base_uri": "https://localhost:8080/",
          "height": 206
        },
        "id": "xQT-JpMVxOkO",
        "outputId": "31d1ab17-3f0e-42fc-c1cd-5cf2bc836e35"
      },
      "outputs": [
        {
          "data": {
            "text/html": [
              "<div>\n",
              "<style scoped>\n",
              "    .dataframe tbody tr th:only-of-type {\n",
              "        vertical-align: middle;\n",
              "    }\n",
              "\n",
              "    .dataframe tbody tr th {\n",
              "        vertical-align: top;\n",
              "    }\n",
              "\n",
              "    .dataframe thead th {\n",
              "        text-align: right;\n",
              "    }\n",
              "</style>\n",
              "<table border=\"1\" class=\"dataframe\">\n",
              "  <thead>\n",
              "    <tr style=\"text-align: right;\">\n",
              "      <th></th>\n",
              "      <th>Make</th>\n",
              "      <th>Vehicle Class</th>\n",
              "      <th>Engine Size(L)</th>\n",
              "      <th>Transmission</th>\n",
              "      <th>Fuel Type</th>\n",
              "      <th>Fuel Consumption (City (L/100 km)</th>\n",
              "      <th>Fuel Consumption(Hwy (L/100 km))</th>\n",
              "      <th>Fuel Consumption(Comb (L/100 km))</th>\n",
              "      <th>Fuel Consumption(Comb (mpg))</th>\n",
              "      <th>CO2 Emissions(g/km)</th>\n",
              "      <th>CO2 Rating</th>\n",
              "      <th>Smog Rating</th>\n",
              "    </tr>\n",
              "  </thead>\n",
              "  <tbody>\n",
              "    <tr>\n",
              "      <th>14</th>\n",
              "      <td>2</td>\n",
              "      <td>3</td>\n",
              "      <td>4.0</td>\n",
              "      <td>3</td>\n",
              "      <td>3</td>\n",
              "      <td>13.0</td>\n",
              "      <td>9.8</td>\n",
              "      <td>11.5</td>\n",
              "      <td>25</td>\n",
              "      <td>271</td>\n",
              "      <td>4</td>\n",
              "      <td>5</td>\n",
              "    </tr>\n",
              "    <tr>\n",
              "      <th>15</th>\n",
              "      <td>2</td>\n",
              "      <td>3</td>\n",
              "      <td>5.2</td>\n",
              "      <td>3</td>\n",
              "      <td>3</td>\n",
              "      <td>16.4</td>\n",
              "      <td>10.7</td>\n",
              "      <td>13.8</td>\n",
              "      <td>20</td>\n",
              "      <td>324</td>\n",
              "      <td>3</td>\n",
              "      <td>3</td>\n",
              "    </tr>\n",
              "    <tr>\n",
              "      <th>16</th>\n",
              "      <td>2</td>\n",
              "      <td>3</td>\n",
              "      <td>5.2</td>\n",
              "      <td>3</td>\n",
              "      <td>3</td>\n",
              "      <td>16.4</td>\n",
              "      <td>10.7</td>\n",
              "      <td>13.8</td>\n",
              "      <td>20</td>\n",
              "      <td>324</td>\n",
              "      <td>3</td>\n",
              "      <td>3</td>\n",
              "    </tr>\n",
              "    <tr>\n",
              "      <th>17</th>\n",
              "      <td>2</td>\n",
              "      <td>8</td>\n",
              "      <td>4.0</td>\n",
              "      <td>4</td>\n",
              "      <td>3</td>\n",
              "      <td>16.8</td>\n",
              "      <td>11.9</td>\n",
              "      <td>14.6</td>\n",
              "      <td>19</td>\n",
              "      <td>343</td>\n",
              "      <td>3</td>\n",
              "      <td>5</td>\n",
              "    </tr>\n",
              "    <tr>\n",
              "      <th>18</th>\n",
              "      <td>2</td>\n",
              "      <td>13</td>\n",
              "      <td>4.0</td>\n",
              "      <td>3</td>\n",
              "      <td>3</td>\n",
              "      <td>13.1</td>\n",
              "      <td>9.6</td>\n",
              "      <td>11.5</td>\n",
              "      <td>25</td>\n",
              "      <td>270</td>\n",
              "      <td>4</td>\n",
              "      <td>5</td>\n",
              "    </tr>\n",
              "  </tbody>\n",
              "</table>\n",
              "</div>"
            ],
            "text/plain": [
              "    Make  Vehicle Class  Engine Size(L)  Transmission  Fuel Type  \\\n",
              "14     2              3             4.0             3          3   \n",
              "15     2              3             5.2             3          3   \n",
              "16     2              3             5.2             3          3   \n",
              "17     2              8             4.0             4          3   \n",
              "18     2             13             4.0             3          3   \n",
              "\n",
              "    Fuel Consumption (City (L/100 km)  Fuel Consumption(Hwy (L/100 km))  \\\n",
              "14                               13.0                               9.8   \n",
              "15                               16.4                              10.7   \n",
              "16                               16.4                              10.7   \n",
              "17                               16.8                              11.9   \n",
              "18                               13.1                               9.6   \n",
              "\n",
              "    Fuel Consumption(Comb (L/100 km))  Fuel Consumption(Comb (mpg))  \\\n",
              "14                               11.5                            25   \n",
              "15                               13.8                            20   \n",
              "16                               13.8                            20   \n",
              "17                               14.6                            19   \n",
              "18                               11.5                            25   \n",
              "\n",
              "    CO2 Emissions(g/km)  CO2 Rating  Smog Rating  \n",
              "14                  271           4            5  \n",
              "15                  324           3            3  \n",
              "16                  324           3            3  \n",
              "17                  343           3            5  \n",
              "18                  270           4            5  "
            ]
          },
          "execution_count": 116,
          "metadata": {},
          "output_type": "execute_result"
        }
      ],
      "source": [
        "# Признаки без целевой переменной\n",
        "x = data.drop('Cylinders', axis=1)\n",
        "x.head()"
      ]
    },
    {
      "cell_type": "code",
      "execution_count": 117,
      "metadata": {
        "colab": {
          "base_uri": "https://localhost:8080/"
        },
        "id": "iQIChbxuxnQA",
        "outputId": "e05b3675-6e2e-429e-fe7a-151728449aae"
      },
      "outputs": [
        {
          "data": {
            "text/plain": [
              "14    4\n",
              "15    6\n",
              "16    6\n",
              "17    4\n",
              "18    4\n",
              "Name: Cylinders, dtype: int64"
            ]
          },
          "execution_count": 117,
          "metadata": {},
          "output_type": "execute_result"
        }
      ],
      "source": [
        "# Целевая переменная\n",
        "y = data['Cylinders']\n",
        "y.head()"
      ]
    },
    {
      "cell_type": "code",
      "execution_count": 118,
      "metadata": {
        "id": "friD6VMZxwj3"
      },
      "outputs": [],
      "source": [
        "x_train, x_test, y_train, y_test = train_test_split(x, y, test_size=0.2, random_state=1)\n",
        "#20% данных будут отложены для тестирования, а 80% будут использованы для обучения модели"
      ]
    },
    {
      "cell_type": "code",
      "execution_count": 119,
      "metadata": {
        "colab": {
          "base_uri": "https://localhost:8080/"
        },
        "id": "mJRF80Sb3--g",
        "outputId": "6cfb1417-6a3c-4670-de60-e06f2404bfd8"
      },
      "outputs": [
        {
          "data": {
            "text/plain": [
              "((171, 12), (171,))"
            ]
          },
          "execution_count": 119,
          "metadata": {},
          "output_type": "execute_result"
        }
      ],
      "source": [
        "# Размер обучающей выборки\n",
        "x_train.shape, y_train.shape"
      ]
    },
    {
      "cell_type": "code",
      "execution_count": 120,
      "metadata": {
        "colab": {
          "base_uri": "https://localhost:8080/"
        },
        "id": "av2-UfVd4Bcd",
        "outputId": "fed21ed5-2f2d-41ee-c58f-1c029aa6f315"
      },
      "outputs": [
        {
          "data": {
            "text/plain": [
              "((43, 12), (43,))"
            ]
          },
          "execution_count": 120,
          "metadata": {},
          "output_type": "execute_result"
        }
      ],
      "source": [
        "# Размер тестовой выборки\n",
        "x_test.shape, y_test.shape"
      ]
    },
    {
      "cell_type": "markdown",
      "metadata": {
        "id": "1pIuXIs3Xl-t"
      },
      "source": [
        "# Обучение ансамблевых моделей"
      ]
    },
    {
      "cell_type": "markdown",
      "metadata": {
        "id": "9-rhXF0zYK2A"
      },
      "source": [
        "## Бэггинг"
      ]
    },
    {
      "cell_type": "markdown",
      "metadata": {
        "id": "Gf6NKZlv4Ai6"
      },
      "source": [
        "### Бэггинг"
      ]
    },
    {
      "cell_type": "code",
      "execution_count": 121,
      "metadata": {
        "colab": {
          "base_uri": "https://localhost:8080/",
          "height": 75
        },
        "id": "REYat5bEYynL",
        "outputId": "bb745da8-424d-4074-ed6b-f8fa4b89acb4"
      },
      "outputs": [
        {
          "data": {
            "text/html": [
              "<style>#sk-container-id-9 {color: black;}#sk-container-id-9 pre{padding: 0;}#sk-container-id-9 div.sk-toggleable {background-color: white;}#sk-container-id-9 label.sk-toggleable__label {cursor: pointer;display: block;width: 100%;margin-bottom: 0;padding: 0.3em;box-sizing: border-box;text-align: center;}#sk-container-id-9 label.sk-toggleable__label-arrow:before {content: \"▸\";float: left;margin-right: 0.25em;color: #696969;}#sk-container-id-9 label.sk-toggleable__label-arrow:hover:before {color: black;}#sk-container-id-9 div.sk-estimator:hover label.sk-toggleable__label-arrow:before {color: black;}#sk-container-id-9 div.sk-toggleable__content {max-height: 0;max-width: 0;overflow: hidden;text-align: left;background-color: #f0f8ff;}#sk-container-id-9 div.sk-toggleable__content pre {margin: 0.2em;color: black;border-radius: 0.25em;background-color: #f0f8ff;}#sk-container-id-9 input.sk-toggleable__control:checked~div.sk-toggleable__content {max-height: 200px;max-width: 100%;overflow: auto;}#sk-container-id-9 input.sk-toggleable__control:checked~label.sk-toggleable__label-arrow:before {content: \"▾\";}#sk-container-id-9 div.sk-estimator input.sk-toggleable__control:checked~label.sk-toggleable__label {background-color: #d4ebff;}#sk-container-id-9 div.sk-label input.sk-toggleable__control:checked~label.sk-toggleable__label {background-color: #d4ebff;}#sk-container-id-9 input.sk-hidden--visually {border: 0;clip: rect(1px 1px 1px 1px);clip: rect(1px, 1px, 1px, 1px);height: 1px;margin: -1px;overflow: hidden;padding: 0;position: absolute;width: 1px;}#sk-container-id-9 div.sk-estimator {font-family: monospace;background-color: #f0f8ff;border: 1px dotted black;border-radius: 0.25em;box-sizing: border-box;margin-bottom: 0.5em;}#sk-container-id-9 div.sk-estimator:hover {background-color: #d4ebff;}#sk-container-id-9 div.sk-parallel-item::after {content: \"\";width: 100%;border-bottom: 1px solid gray;flex-grow: 1;}#sk-container-id-9 div.sk-label:hover label.sk-toggleable__label {background-color: #d4ebff;}#sk-container-id-9 div.sk-serial::before {content: \"\";position: absolute;border-left: 1px solid gray;box-sizing: border-box;top: 0;bottom: 0;left: 50%;z-index: 0;}#sk-container-id-9 div.sk-serial {display: flex;flex-direction: column;align-items: center;background-color: white;padding-right: 0.2em;padding-left: 0.2em;position: relative;}#sk-container-id-9 div.sk-item {position: relative;z-index: 1;}#sk-container-id-9 div.sk-parallel {display: flex;align-items: stretch;justify-content: center;background-color: white;position: relative;}#sk-container-id-9 div.sk-item::before, #sk-container-id-9 div.sk-parallel-item::before {content: \"\";position: absolute;border-left: 1px solid gray;box-sizing: border-box;top: 0;bottom: 0;left: 50%;z-index: -1;}#sk-container-id-9 div.sk-parallel-item {display: flex;flex-direction: column;z-index: 1;position: relative;background-color: white;}#sk-container-id-9 div.sk-parallel-item:first-child::after {align-self: flex-end;width: 50%;}#sk-container-id-9 div.sk-parallel-item:last-child::after {align-self: flex-start;width: 50%;}#sk-container-id-9 div.sk-parallel-item:only-child::after {width: 0;}#sk-container-id-9 div.sk-dashed-wrapped {border: 1px dashed gray;margin: 0 0.4em 0.5em 0.4em;box-sizing: border-box;padding-bottom: 0.4em;background-color: white;}#sk-container-id-9 div.sk-label label {font-family: monospace;font-weight: bold;display: inline-block;line-height: 1.2em;}#sk-container-id-9 div.sk-label-container {text-align: center;}#sk-container-id-9 div.sk-container {/* jupyter's `normalize.less` sets `[hidden] { display: none; }` but bootstrap.min.css set `[hidden] { display: none !important; }` so we also need the `!important` here to be able to override the default hidden behavior on the sphinx rendered scikit-learn.org. See: https://github.com/scikit-learn/scikit-learn/issues/21755 */display: inline-block !important;position: relative;}#sk-container-id-9 div.sk-text-repr-fallback {display: none;}</style><div id=\"sk-container-id-9\" class=\"sk-top-container\"><div class=\"sk-text-repr-fallback\"><pre>BaggingClassifier(n_estimators=200, oob_score=True, random_state=10)</pre><b>In a Jupyter environment, please rerun this cell to show the HTML representation or trust the notebook. <br />On GitHub, the HTML representation is unable to render, please try loading this page with nbviewer.org.</b></div><div class=\"sk-container\" hidden><div class=\"sk-item\"><div class=\"sk-estimator sk-toggleable\"><input class=\"sk-toggleable__control sk-hidden--visually\" id=\"sk-estimator-id-9\" type=\"checkbox\" checked><label for=\"sk-estimator-id-9\" class=\"sk-toggleable__label sk-toggleable__label-arrow\">BaggingClassifier</label><div class=\"sk-toggleable__content\"><pre>BaggingClassifier(n_estimators=200, oob_score=True, random_state=10)</pre></div></div></div></div></div>"
            ],
            "text/plain": [
              "BaggingClassifier(n_estimators=200, oob_score=True, random_state=10)"
            ]
          },
          "execution_count": 121,
          "metadata": {},
          "output_type": "execute_result"
        }
      ],
      "source": [
        "\n",
        "model_bc = BaggingClassifier(n_estimators=200, oob_score=True, random_state=10)\n",
        "model_bc.fit(x_train, y_train)"
      ]
    },
    {
      "cell_type": "markdown",
      "metadata": {
        "id": "ZUEcTUBO4EWF"
      },
      "source": [
        "### Случайный лес"
      ]
    },
    {
      "cell_type": "code",
      "execution_count": 122,
      "metadata": {
        "colab": {
          "base_uri": "https://localhost:8080/",
          "height": 75
        },
        "id": "DFn1-h9o4ICV",
        "outputId": "f3a7a393-dc64-4926-a2ee-3a0029cb1fe4"
      },
      "outputs": [
        {
          "data": {
            "text/html": [
              "<style>#sk-container-id-10 {color: black;}#sk-container-id-10 pre{padding: 0;}#sk-container-id-10 div.sk-toggleable {background-color: white;}#sk-container-id-10 label.sk-toggleable__label {cursor: pointer;display: block;width: 100%;margin-bottom: 0;padding: 0.3em;box-sizing: border-box;text-align: center;}#sk-container-id-10 label.sk-toggleable__label-arrow:before {content: \"▸\";float: left;margin-right: 0.25em;color: #696969;}#sk-container-id-10 label.sk-toggleable__label-arrow:hover:before {color: black;}#sk-container-id-10 div.sk-estimator:hover label.sk-toggleable__label-arrow:before {color: black;}#sk-container-id-10 div.sk-toggleable__content {max-height: 0;max-width: 0;overflow: hidden;text-align: left;background-color: #f0f8ff;}#sk-container-id-10 div.sk-toggleable__content pre {margin: 0.2em;color: black;border-radius: 0.25em;background-color: #f0f8ff;}#sk-container-id-10 input.sk-toggleable__control:checked~div.sk-toggleable__content {max-height: 200px;max-width: 100%;overflow: auto;}#sk-container-id-10 input.sk-toggleable__control:checked~label.sk-toggleable__label-arrow:before {content: \"▾\";}#sk-container-id-10 div.sk-estimator input.sk-toggleable__control:checked~label.sk-toggleable__label {background-color: #d4ebff;}#sk-container-id-10 div.sk-label input.sk-toggleable__control:checked~label.sk-toggleable__label {background-color: #d4ebff;}#sk-container-id-10 input.sk-hidden--visually {border: 0;clip: rect(1px 1px 1px 1px);clip: rect(1px, 1px, 1px, 1px);height: 1px;margin: -1px;overflow: hidden;padding: 0;position: absolute;width: 1px;}#sk-container-id-10 div.sk-estimator {font-family: monospace;background-color: #f0f8ff;border: 1px dotted black;border-radius: 0.25em;box-sizing: border-box;margin-bottom: 0.5em;}#sk-container-id-10 div.sk-estimator:hover {background-color: #d4ebff;}#sk-container-id-10 div.sk-parallel-item::after {content: \"\";width: 100%;border-bottom: 1px solid gray;flex-grow: 1;}#sk-container-id-10 div.sk-label:hover label.sk-toggleable__label {background-color: #d4ebff;}#sk-container-id-10 div.sk-serial::before {content: \"\";position: absolute;border-left: 1px solid gray;box-sizing: border-box;top: 0;bottom: 0;left: 50%;z-index: 0;}#sk-container-id-10 div.sk-serial {display: flex;flex-direction: column;align-items: center;background-color: white;padding-right: 0.2em;padding-left: 0.2em;position: relative;}#sk-container-id-10 div.sk-item {position: relative;z-index: 1;}#sk-container-id-10 div.sk-parallel {display: flex;align-items: stretch;justify-content: center;background-color: white;position: relative;}#sk-container-id-10 div.sk-item::before, #sk-container-id-10 div.sk-parallel-item::before {content: \"\";position: absolute;border-left: 1px solid gray;box-sizing: border-box;top: 0;bottom: 0;left: 50%;z-index: -1;}#sk-container-id-10 div.sk-parallel-item {display: flex;flex-direction: column;z-index: 1;position: relative;background-color: white;}#sk-container-id-10 div.sk-parallel-item:first-child::after {align-self: flex-end;width: 50%;}#sk-container-id-10 div.sk-parallel-item:last-child::after {align-self: flex-start;width: 50%;}#sk-container-id-10 div.sk-parallel-item:only-child::after {width: 0;}#sk-container-id-10 div.sk-dashed-wrapped {border: 1px dashed gray;margin: 0 0.4em 0.5em 0.4em;box-sizing: border-box;padding-bottom: 0.4em;background-color: white;}#sk-container-id-10 div.sk-label label {font-family: monospace;font-weight: bold;display: inline-block;line-height: 1.2em;}#sk-container-id-10 div.sk-label-container {text-align: center;}#sk-container-id-10 div.sk-container {/* jupyter's `normalize.less` sets `[hidden] { display: none; }` but bootstrap.min.css set `[hidden] { display: none !important; }` so we also need the `!important` here to be able to override the default hidden behavior on the sphinx rendered scikit-learn.org. See: https://github.com/scikit-learn/scikit-learn/issues/21755 */display: inline-block !important;position: relative;}#sk-container-id-10 div.sk-text-repr-fallback {display: none;}</style><div id=\"sk-container-id-10\" class=\"sk-top-container\"><div class=\"sk-text-repr-fallback\"><pre>RandomForestClassifier(n_estimators=200, oob_score=True, random_state=10)</pre><b>In a Jupyter environment, please rerun this cell to show the HTML representation or trust the notebook. <br />On GitHub, the HTML representation is unable to render, please try loading this page with nbviewer.org.</b></div><div class=\"sk-container\" hidden><div class=\"sk-item\"><div class=\"sk-estimator sk-toggleable\"><input class=\"sk-toggleable__control sk-hidden--visually\" id=\"sk-estimator-id-10\" type=\"checkbox\" checked><label for=\"sk-estimator-id-10\" class=\"sk-toggleable__label sk-toggleable__label-arrow\">RandomForestClassifier</label><div class=\"sk-toggleable__content\"><pre>RandomForestClassifier(n_estimators=200, oob_score=True, random_state=10)</pre></div></div></div></div></div>"
            ],
            "text/plain": [
              "RandomForestClassifier(n_estimators=200, oob_score=True, random_state=10)"
            ]
          },
          "execution_count": 122,
          "metadata": {},
          "output_type": "execute_result"
        }
      ],
      "source": [
        "rand_forest_model = RandomForestClassifier(n_estimators=200, oob_score=True, random_state=10)\n",
        "rand_forest_model.fit(x_train, y_train)"
      ]
    },
    {
      "cell_type": "markdown",
      "metadata": {
        "id": "OweDY9wqYVsv"
      },
      "source": [
        "## AdaBoost"
      ]
    },
    {
      "cell_type": "code",
      "execution_count": 123,
      "metadata": {
        "colab": {
          "base_uri": "https://localhost:8080/",
          "height": 75
        },
        "id": "Nx1Hi-GLYzmG",
        "outputId": "8771db35-2836-4e7f-898e-049ce6902da3"
      },
      "outputs": [
        {
          "data": {
            "text/html": [
              "<style>#sk-container-id-11 {color: black;}#sk-container-id-11 pre{padding: 0;}#sk-container-id-11 div.sk-toggleable {background-color: white;}#sk-container-id-11 label.sk-toggleable__label {cursor: pointer;display: block;width: 100%;margin-bottom: 0;padding: 0.3em;box-sizing: border-box;text-align: center;}#sk-container-id-11 label.sk-toggleable__label-arrow:before {content: \"▸\";float: left;margin-right: 0.25em;color: #696969;}#sk-container-id-11 label.sk-toggleable__label-arrow:hover:before {color: black;}#sk-container-id-11 div.sk-estimator:hover label.sk-toggleable__label-arrow:before {color: black;}#sk-container-id-11 div.sk-toggleable__content {max-height: 0;max-width: 0;overflow: hidden;text-align: left;background-color: #f0f8ff;}#sk-container-id-11 div.sk-toggleable__content pre {margin: 0.2em;color: black;border-radius: 0.25em;background-color: #f0f8ff;}#sk-container-id-11 input.sk-toggleable__control:checked~div.sk-toggleable__content {max-height: 200px;max-width: 100%;overflow: auto;}#sk-container-id-11 input.sk-toggleable__control:checked~label.sk-toggleable__label-arrow:before {content: \"▾\";}#sk-container-id-11 div.sk-estimator input.sk-toggleable__control:checked~label.sk-toggleable__label {background-color: #d4ebff;}#sk-container-id-11 div.sk-label input.sk-toggleable__control:checked~label.sk-toggleable__label {background-color: #d4ebff;}#sk-container-id-11 input.sk-hidden--visually {border: 0;clip: rect(1px 1px 1px 1px);clip: rect(1px, 1px, 1px, 1px);height: 1px;margin: -1px;overflow: hidden;padding: 0;position: absolute;width: 1px;}#sk-container-id-11 div.sk-estimator {font-family: monospace;background-color: #f0f8ff;border: 1px dotted black;border-radius: 0.25em;box-sizing: border-box;margin-bottom: 0.5em;}#sk-container-id-11 div.sk-estimator:hover {background-color: #d4ebff;}#sk-container-id-11 div.sk-parallel-item::after {content: \"\";width: 100%;border-bottom: 1px solid gray;flex-grow: 1;}#sk-container-id-11 div.sk-label:hover label.sk-toggleable__label {background-color: #d4ebff;}#sk-container-id-11 div.sk-serial::before {content: \"\";position: absolute;border-left: 1px solid gray;box-sizing: border-box;top: 0;bottom: 0;left: 50%;z-index: 0;}#sk-container-id-11 div.sk-serial {display: flex;flex-direction: column;align-items: center;background-color: white;padding-right: 0.2em;padding-left: 0.2em;position: relative;}#sk-container-id-11 div.sk-item {position: relative;z-index: 1;}#sk-container-id-11 div.sk-parallel {display: flex;align-items: stretch;justify-content: center;background-color: white;position: relative;}#sk-container-id-11 div.sk-item::before, #sk-container-id-11 div.sk-parallel-item::before {content: \"\";position: absolute;border-left: 1px solid gray;box-sizing: border-box;top: 0;bottom: 0;left: 50%;z-index: -1;}#sk-container-id-11 div.sk-parallel-item {display: flex;flex-direction: column;z-index: 1;position: relative;background-color: white;}#sk-container-id-11 div.sk-parallel-item:first-child::after {align-self: flex-end;width: 50%;}#sk-container-id-11 div.sk-parallel-item:last-child::after {align-self: flex-start;width: 50%;}#sk-container-id-11 div.sk-parallel-item:only-child::after {width: 0;}#sk-container-id-11 div.sk-dashed-wrapped {border: 1px dashed gray;margin: 0 0.4em 0.5em 0.4em;box-sizing: border-box;padding-bottom: 0.4em;background-color: white;}#sk-container-id-11 div.sk-label label {font-family: monospace;font-weight: bold;display: inline-block;line-height: 1.2em;}#sk-container-id-11 div.sk-label-container {text-align: center;}#sk-container-id-11 div.sk-container {/* jupyter's `normalize.less` sets `[hidden] { display: none; }` but bootstrap.min.css set `[hidden] { display: none !important; }` so we also need the `!important` here to be able to override the default hidden behavior on the sphinx rendered scikit-learn.org. See: https://github.com/scikit-learn/scikit-learn/issues/21755 */display: inline-block !important;position: relative;}#sk-container-id-11 div.sk-text-repr-fallback {display: none;}</style><div id=\"sk-container-id-11\" class=\"sk-top-container\"><div class=\"sk-text-repr-fallback\"><pre>AdaBoostClassifier(algorithm=&#x27;SAMME&#x27;, n_estimators=200, random_state=10)</pre><b>In a Jupyter environment, please rerun this cell to show the HTML representation or trust the notebook. <br />On GitHub, the HTML representation is unable to render, please try loading this page with nbviewer.org.</b></div><div class=\"sk-container\" hidden><div class=\"sk-item\"><div class=\"sk-estimator sk-toggleable\"><input class=\"sk-toggleable__control sk-hidden--visually\" id=\"sk-estimator-id-11\" type=\"checkbox\" checked><label for=\"sk-estimator-id-11\" class=\"sk-toggleable__label sk-toggleable__label-arrow\">AdaBoostClassifier</label><div class=\"sk-toggleable__content\"><pre>AdaBoostClassifier(algorithm=&#x27;SAMME&#x27;, n_estimators=200, random_state=10)</pre></div></div></div></div></div>"
            ],
            "text/plain": [
              "AdaBoostClassifier(algorithm='SAMME', n_estimators=200, random_state=10)"
            ]
          },
          "execution_count": 123,
          "metadata": {},
          "output_type": "execute_result"
        }
      ],
      "source": [
        "ada_boost_model = AdaBoostClassifier(n_estimators=200, algorithm='SAMME', random_state=10)\n",
        "ada_boost_model.fit(x_train, y_train)"
      ]
    },
    {
      "cell_type": "markdown",
      "metadata": {
        "id": "ZU5DQSDbYjA9"
      },
      "source": [
        "## Градиентный бустинг\n"
      ]
    },
    {
      "cell_type": "code",
      "execution_count": 124,
      "metadata": {
        "colab": {
          "base_uri": "https://localhost:8080/",
          "height": 75
        },
        "id": "CByE4R5RY0KS",
        "outputId": "303d65b7-063d-4517-e23c-fe2f27bf36e4"
      },
      "outputs": [
        {
          "data": {
            "text/html": [
              "<style>#sk-container-id-12 {color: black;}#sk-container-id-12 pre{padding: 0;}#sk-container-id-12 div.sk-toggleable {background-color: white;}#sk-container-id-12 label.sk-toggleable__label {cursor: pointer;display: block;width: 100%;margin-bottom: 0;padding: 0.3em;box-sizing: border-box;text-align: center;}#sk-container-id-12 label.sk-toggleable__label-arrow:before {content: \"▸\";float: left;margin-right: 0.25em;color: #696969;}#sk-container-id-12 label.sk-toggleable__label-arrow:hover:before {color: black;}#sk-container-id-12 div.sk-estimator:hover label.sk-toggleable__label-arrow:before {color: black;}#sk-container-id-12 div.sk-toggleable__content {max-height: 0;max-width: 0;overflow: hidden;text-align: left;background-color: #f0f8ff;}#sk-container-id-12 div.sk-toggleable__content pre {margin: 0.2em;color: black;border-radius: 0.25em;background-color: #f0f8ff;}#sk-container-id-12 input.sk-toggleable__control:checked~div.sk-toggleable__content {max-height: 200px;max-width: 100%;overflow: auto;}#sk-container-id-12 input.sk-toggleable__control:checked~label.sk-toggleable__label-arrow:before {content: \"▾\";}#sk-container-id-12 div.sk-estimator input.sk-toggleable__control:checked~label.sk-toggleable__label {background-color: #d4ebff;}#sk-container-id-12 div.sk-label input.sk-toggleable__control:checked~label.sk-toggleable__label {background-color: #d4ebff;}#sk-container-id-12 input.sk-hidden--visually {border: 0;clip: rect(1px 1px 1px 1px);clip: rect(1px, 1px, 1px, 1px);height: 1px;margin: -1px;overflow: hidden;padding: 0;position: absolute;width: 1px;}#sk-container-id-12 div.sk-estimator {font-family: monospace;background-color: #f0f8ff;border: 1px dotted black;border-radius: 0.25em;box-sizing: border-box;margin-bottom: 0.5em;}#sk-container-id-12 div.sk-estimator:hover {background-color: #d4ebff;}#sk-container-id-12 div.sk-parallel-item::after {content: \"\";width: 100%;border-bottom: 1px solid gray;flex-grow: 1;}#sk-container-id-12 div.sk-label:hover label.sk-toggleable__label {background-color: #d4ebff;}#sk-container-id-12 div.sk-serial::before {content: \"\";position: absolute;border-left: 1px solid gray;box-sizing: border-box;top: 0;bottom: 0;left: 50%;z-index: 0;}#sk-container-id-12 div.sk-serial {display: flex;flex-direction: column;align-items: center;background-color: white;padding-right: 0.2em;padding-left: 0.2em;position: relative;}#sk-container-id-12 div.sk-item {position: relative;z-index: 1;}#sk-container-id-12 div.sk-parallel {display: flex;align-items: stretch;justify-content: center;background-color: white;position: relative;}#sk-container-id-12 div.sk-item::before, #sk-container-id-12 div.sk-parallel-item::before {content: \"\";position: absolute;border-left: 1px solid gray;box-sizing: border-box;top: 0;bottom: 0;left: 50%;z-index: -1;}#sk-container-id-12 div.sk-parallel-item {display: flex;flex-direction: column;z-index: 1;position: relative;background-color: white;}#sk-container-id-12 div.sk-parallel-item:first-child::after {align-self: flex-end;width: 50%;}#sk-container-id-12 div.sk-parallel-item:last-child::after {align-self: flex-start;width: 50%;}#sk-container-id-12 div.sk-parallel-item:only-child::after {width: 0;}#sk-container-id-12 div.sk-dashed-wrapped {border: 1px dashed gray;margin: 0 0.4em 0.5em 0.4em;box-sizing: border-box;padding-bottom: 0.4em;background-color: white;}#sk-container-id-12 div.sk-label label {font-family: monospace;font-weight: bold;display: inline-block;line-height: 1.2em;}#sk-container-id-12 div.sk-label-container {text-align: center;}#sk-container-id-12 div.sk-container {/* jupyter's `normalize.less` sets `[hidden] { display: none; }` but bootstrap.min.css set `[hidden] { display: none !important; }` so we also need the `!important` here to be able to override the default hidden behavior on the sphinx rendered scikit-learn.org. See: https://github.com/scikit-learn/scikit-learn/issues/21755 */display: inline-block !important;position: relative;}#sk-container-id-12 div.sk-text-repr-fallback {display: none;}</style><div id=\"sk-container-id-12\" class=\"sk-top-container\"><div class=\"sk-text-repr-fallback\"><pre>GradientBoostingClassifier(n_estimators=200)</pre><b>In a Jupyter environment, please rerun this cell to show the HTML representation or trust the notebook. <br />On GitHub, the HTML representation is unable to render, please try loading this page with nbviewer.org.</b></div><div class=\"sk-container\" hidden><div class=\"sk-item\"><div class=\"sk-estimator sk-toggleable\"><input class=\"sk-toggleable__control sk-hidden--visually\" id=\"sk-estimator-id-12\" type=\"checkbox\" checked><label for=\"sk-estimator-id-12\" class=\"sk-toggleable__label sk-toggleable__label-arrow\">GradientBoostingClassifier</label><div class=\"sk-toggleable__content\"><pre>GradientBoostingClassifier(n_estimators=200)</pre></div></div></div></div></div>"
            ],
            "text/plain": [
              "GradientBoostingClassifier(n_estimators=200)"
            ]
          },
          "execution_count": 124,
          "metadata": {},
          "output_type": "execute_result"
        }
      ],
      "source": [
        "grad_boost_model = GradientBoostingClassifier(n_estimators=200)\n",
        "grad_boost_model.fit(x_train, y_train)"
      ]
    },
    {
      "cell_type": "markdown",
      "metadata": {
        "id": "HYiyFcFfZk-1"
      },
      "source": [
        "# Оценка качества моделей"
      ]
    },
    {
      "cell_type": "code",
      "execution_count": 125,
      "metadata": {
        "colab": {
          "base_uri": "https://localhost:8080/"
        },
        "id": "LmeOoAm4ZtVs",
        "outputId": "5826db45-ab28-4bf8-dd4f-d663b3bf88ab"
      },
      "outputs": [
        {
          "name": "stdout",
          "output_type": "stream",
          "text": [
            "BaggingClassifier:\n",
            "\t accuracy = 0.9069767441860465\n",
            "RandomForestClassifier:\n",
            "\t accuracy = 0.9302325581395349\n",
            "AdaBoostClassifier:\n",
            "\t accuracy = 1.0\n",
            "GradientBoostingClassifier:\n",
            "\t accuracy = 0.9069767441860465\n"
          ]
        }
      ],
      "source": [
        "models = [model_bc, rand_forest_model, ada_boost_model, grad_boost_model]\n",
        "for model in models:\n",
        "    print(f\"{type(model).__name__}:\")\n",
        "    print('\\t',f\"accuracy = {accuracy_score(y_test,model.predict(x_test))}\")"
      ]
    }
  ],
  "metadata": {
    "colab": {
      "authorship_tag": "ABX9TyMoO/lfUgFxpqCqaUA8lUuk",
      "provenance": []
    },
    "kernelspec": {
      "display_name": "Python 3",
      "name": "python3"
    },
    "language_info": {
      "codemirror_mode": {
        "name": "ipython",
        "version": 3
      },
      "file_extension": ".py",
      "mimetype": "text/x-python",
      "name": "python",
      "nbconvert_exporter": "python",
      "pygments_lexer": "ipython3",
      "version": "3.12.1"
    }
  },
  "nbformat": 4,
  "nbformat_minor": 0
}
