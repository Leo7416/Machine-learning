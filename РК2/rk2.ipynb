{
  "cells": [
    {
      "cell_type": "markdown",
      "id": "da038a87",
      "metadata": {
        "id": "da038a87"
      },
      "source": [
        "# РК2\n"
      ]
    },
    {
      "cell_type": "markdown",
      "id": "8ae51df8",
      "metadata": {},
      "source": [
        "## 31 вариант"
      ]
    },
    {
      "cell_type": "markdown",
      "id": "075091c8",
      "metadata": {},
      "source": [
        "**Задание.** Для заданного набора данных (по Вашему варианту) постройте модели классификации или регрессии (в зависимости от конкретной задачи, рассматриваемой в наборе данных). Для построения моделей используйте методы 1 и 2 (по варианту для Вашей группы). Оцените качество моделей на основе подходящих метрик качества (не менее двух метрик). Какие метрики качества Вы использовали и почему? Какие выводы Вы можете сделать о качестве построенных моделей? Для построения моделей необходимо выполнить требуемую предобработку данных: заполнение пропусков, кодирование категориальных признаков, и т.д."
      ]
    },
    {
      "cell_type": "markdown",
      "id": "Ojs3Gfb2nlTA",
      "metadata": {
        "id": "Ojs3Gfb2nlTA"
      },
      "source": [
        "**Задание по варианту:** метод опорных векторов, градиентный бустинг."
      ]
    },
    {
      "cell_type": "markdown",
      "id": "81134bf1",
      "metadata": {},
      "source": [
        "**Датасет:** https://www.kaggle.com/datasets/kmldas/loan-default-prediction (файл Default_Fin.csv)"
      ]
    },
    {
      "cell_type": "markdown",
      "id": "c878b553",
      "metadata": {},
      "source": [
        "В качестве набора данных предлагается датасет с бразильскими домами для аренды.\n",
        "\n",
        "В данном датасете 5 колонок:\n",
        "\n",
        "* **index** - индификатор;\n",
        "* **Employed** - тродоустройства; \n",
        "* **Bank Balance** - баланс в банке;\n",
        "* **Annual Salary** - годовая зароботная плата;\n",
        "* **Defaulted** - дефолт;"
      ]
    },
    {
      "cell_type": "code",
      "execution_count": 42,
      "id": "1487f51c",
      "metadata": {
        "id": "1487f51c"
      },
      "outputs": [],
      "source": [
        "import numpy as np\n",
        "import pandas as pd\n",
        "from typing import Dict, Tuple\n",
        "from scipy import stats\n",
        "from IPython.display import Image\n",
        "from io import StringIO\n",
        "from IPython.display import Image\n",
        "import graphviz\n",
        "from sklearn.model_selection import cross_val_score\n",
        "from sklearn.model_selection import train_test_split\n",
        "from sklearn.neighbors import KNeighborsRegressor, KNeighborsClassifier\n",
        "from sklearn.model_selection import GridSearchCV, RandomizedSearchCV\n",
        "from sklearn.metrics import accuracy_score, balanced_accuracy_score\n",
        "from sklearn.metrics import precision_score, recall_score, f1_score, classification_report\n",
        "from sklearn.metrics import confusion_matrix\n",
        "from sklearn.tree import DecisionTreeClassifier, DecisionTreeRegressor, export_graphviz\n",
        "from sklearn.ensemble import RandomForestClassifier, RandomForestRegressor\n",
        "from sklearn.ensemble import ExtraTreesClassifier, ExtraTreesRegressor\n",
        "from sklearn.ensemble import GradientBoostingClassifier, GradientBoostingRegressor\n",
        "from sklearn.ensemble import BaggingClassifier\n",
        "from sklearn.ensemble import AdaBoostClassifier\n",
        "from sklearn.metrics import mean_absolute_error, mean_squared_error, mean_squared_log_error, median_absolute_error, r2_score\n",
        "from sklearn.metrics import roc_curve, roc_auc_score\n",
        "import seaborn as sns\n",
        "import matplotlib.pyplot as plt\n",
        "%matplotlib inline\n",
        "sns.set(style=\"ticks\")\n",
        "from sklearn.preprocessing import StandardScaler"
      ]
    },
    {
      "cell_type": "markdown",
      "id": "803ee6a3",
      "metadata": {
        "id": "803ee6a3"
      },
      "source": [
        "## Загрузка и первичный анализ данных\n"
      ]
    },
    {
      "cell_type": "code",
      "execution_count": 43,
      "id": "a219ff2d",
      "metadata": {
        "id": "a219ff2d"
      },
      "outputs": [],
      "source": [
        "data = pd.read_csv('C:\\\\Users\\\\adolf\\\\Downloads\\\\Default_Fin.csv', sep=\",\")"
      ]
    },
    {
      "cell_type": "code",
      "execution_count": 44,
      "id": "ea97603b",
      "metadata": {
        "colab": {
          "base_uri": "https://localhost:8080/"
        },
        "id": "ea97603b",
        "outputId": "2d37837a-1d1e-4930-ccef-dbf78bcf697a"
      },
      "outputs": [
        {
          "data": {
            "text/plain": [
              "(10000, 5)"
            ]
          },
          "execution_count": 44,
          "metadata": {},
          "output_type": "execute_result"
        }
      ],
      "source": [
        "data.shape"
      ]
    },
    {
      "cell_type": "code",
      "execution_count": 45,
      "id": "e9fbed26",
      "metadata": {
        "colab": {
          "base_uri": "https://localhost:8080/"
        },
        "id": "e9fbed26",
        "outputId": "47eaeba4-f0a8-4bd4-ac80-3ec2fb3b659e"
      },
      "outputs": [
        {
          "data": {
            "text/plain": [
              "Index              int64\n",
              "Employed           int64\n",
              "Bank Balance     float64\n",
              "Annual Salary    float64\n",
              "Defaulted?         int64\n",
              "dtype: object"
            ]
          },
          "execution_count": 45,
          "metadata": {},
          "output_type": "execute_result"
        }
      ],
      "source": [
        "# типы колонок\n",
        "data.dtypes"
      ]
    },
    {
      "cell_type": "code",
      "execution_count": 46,
      "id": "2eec70a2",
      "metadata": {
        "colab": {
          "base_uri": "https://localhost:8080/",
          "height": 295
        },
        "id": "2eec70a2",
        "outputId": "478ed3c9-70fe-426f-dc60-f79852dcc254"
      },
      "outputs": [
        {
          "data": {
            "text/html": [
              "<div>\n",
              "<style scoped>\n",
              "    .dataframe tbody tr th:only-of-type {\n",
              "        vertical-align: middle;\n",
              "    }\n",
              "\n",
              "    .dataframe tbody tr th {\n",
              "        vertical-align: top;\n",
              "    }\n",
              "\n",
              "    .dataframe thead th {\n",
              "        text-align: right;\n",
              "    }\n",
              "</style>\n",
              "<table border=\"1\" class=\"dataframe\">\n",
              "  <thead>\n",
              "    <tr style=\"text-align: right;\">\n",
              "      <th></th>\n",
              "      <th>Index</th>\n",
              "      <th>Employed</th>\n",
              "      <th>Bank Balance</th>\n",
              "      <th>Annual Salary</th>\n",
              "      <th>Defaulted?</th>\n",
              "    </tr>\n",
              "  </thead>\n",
              "  <tbody>\n",
              "    <tr>\n",
              "      <th>0</th>\n",
              "      <td>1</td>\n",
              "      <td>1</td>\n",
              "      <td>8754.36</td>\n",
              "      <td>532339.56</td>\n",
              "      <td>0</td>\n",
              "    </tr>\n",
              "    <tr>\n",
              "      <th>1</th>\n",
              "      <td>2</td>\n",
              "      <td>0</td>\n",
              "      <td>9806.16</td>\n",
              "      <td>145273.56</td>\n",
              "      <td>0</td>\n",
              "    </tr>\n",
              "    <tr>\n",
              "      <th>2</th>\n",
              "      <td>3</td>\n",
              "      <td>1</td>\n",
              "      <td>12882.60</td>\n",
              "      <td>381205.68</td>\n",
              "      <td>0</td>\n",
              "    </tr>\n",
              "    <tr>\n",
              "      <th>3</th>\n",
              "      <td>4</td>\n",
              "      <td>1</td>\n",
              "      <td>6351.00</td>\n",
              "      <td>428453.88</td>\n",
              "      <td>0</td>\n",
              "    </tr>\n",
              "    <tr>\n",
              "      <th>4</th>\n",
              "      <td>5</td>\n",
              "      <td>1</td>\n",
              "      <td>9427.92</td>\n",
              "      <td>461562.00</td>\n",
              "      <td>0</td>\n",
              "    </tr>\n",
              "  </tbody>\n",
              "</table>\n",
              "</div>"
            ],
            "text/plain": [
              "   Index  Employed  Bank Balance  Annual Salary  Defaulted?\n",
              "0      1         1       8754.36      532339.56           0\n",
              "1      2         0       9806.16      145273.56           0\n",
              "2      3         1      12882.60      381205.68           0\n",
              "3      4         1       6351.00      428453.88           0\n",
              "4      5         1       9427.92      461562.00           0"
            ]
          },
          "execution_count": 46,
          "metadata": {},
          "output_type": "execute_result"
        }
      ],
      "source": [
        "data.head(5)"
      ]
    },
    {
      "cell_type": "code",
      "execution_count": 47,
      "id": "4c5d1881",
      "metadata": {
        "id": "4c5d1881"
      },
      "outputs": [],
      "source": [
        "data.rename(columns={'Defaulted?': \"Defaulted\"}, inplace=True)"
      ]
    },
    {
      "cell_type": "code",
      "execution_count": 48,
      "id": "073a3e00",
      "metadata": {
        "colab": {
          "base_uri": "https://localhost:8080/"
        },
        "id": "073a3e00",
        "outputId": "44617927-c05e-438e-dd32-cb534a34299f"
      },
      "outputs": [
        {
          "name": "stdout",
          "output_type": "stream",
          "text": [
            "Index            0\n",
            "Employed         0\n",
            "Bank Balance     0\n",
            "Annual Salary    0\n",
            "Defaulted        0\n",
            "dtype: int64\n"
          ]
        }
      ],
      "source": [
        "# кол-во пропущенные значений (тк нулевые значения в данном датасете - конкретное значения)\n",
        "nan_count = (data.isna().sum())\n",
        "print(nan_count)"
      ]
    },
    {
      "cell_type": "markdown",
      "id": "47ae6543",
      "metadata": {
        "id": "47ae6543"
      },
      "source": [
        "## Обрабработка данных"
      ]
    },
    {
      "cell_type": "markdown",
      "id": "Gp0qJ5h2sTtI",
      "metadata": {
        "id": "Gp0qJ5h2sTtI"
      },
      "source": [
        "## Разделение на обучающую и тестовую выборки."
      ]
    },
    {
      "cell_type": "code",
      "execution_count": 49,
      "id": "Ebf9jwMhI8Mm",
      "metadata": {
        "id": "Ebf9jwMhI8Mm"
      },
      "outputs": [],
      "source": [
        "target = data['Defaulted']\n",
        "data_X_train, data_X_test, data_y_train, data_y_test = train_test_split(\n",
        "    data, target, test_size=0.2, random_state=1)"
      ]
    },
    {
      "cell_type": "code",
      "execution_count": 50,
      "id": "DC5S1KYGpl8J",
      "metadata": {
        "colab": {
          "base_uri": "https://localhost:8080/"
        },
        "id": "DC5S1KYGpl8J",
        "outputId": "d9e0d6df-3af7-40ca-a80c-7408d9973cea"
      },
      "outputs": [
        {
          "data": {
            "text/plain": [
              "((8000, 5), (2000, 5), (8000,), (2000,))"
            ]
          },
          "execution_count": 50,
          "metadata": {},
          "output_type": "execute_result"
        }
      ],
      "source": [
        "data_X_train.shape, data_X_test.shape, data_y_train.shape, data_y_test.shape"
      ]
    },
    {
      "cell_type": "markdown",
      "id": "-Enr_w0iuYAr",
      "metadata": {
        "id": "-Enr_w0iuYAr"
      },
      "source": [
        "# Метод опорных векторов"
      ]
    },
    {
      "cell_type": "code",
      "execution_count": 51,
      "id": "kTgB0uafpl-r",
      "metadata": {
        "colab": {
          "base_uri": "https://localhost:8080/",
          "height": 74
        },
        "id": "kTgB0uafpl-r",
        "outputId": "6976414a-5b75-49d4-f195-9900a99c2ff0"
      },
      "outputs": [
        {
          "data": {
            "text/html": [
              "<style>#sk-container-id-3 {color: black;}#sk-container-id-3 pre{padding: 0;}#sk-container-id-3 div.sk-toggleable {background-color: white;}#sk-container-id-3 label.sk-toggleable__label {cursor: pointer;display: block;width: 100%;margin-bottom: 0;padding: 0.3em;box-sizing: border-box;text-align: center;}#sk-container-id-3 label.sk-toggleable__label-arrow:before {content: \"▸\";float: left;margin-right: 0.25em;color: #696969;}#sk-container-id-3 label.sk-toggleable__label-arrow:hover:before {color: black;}#sk-container-id-3 div.sk-estimator:hover label.sk-toggleable__label-arrow:before {color: black;}#sk-container-id-3 div.sk-toggleable__content {max-height: 0;max-width: 0;overflow: hidden;text-align: left;background-color: #f0f8ff;}#sk-container-id-3 div.sk-toggleable__content pre {margin: 0.2em;color: black;border-radius: 0.25em;background-color: #f0f8ff;}#sk-container-id-3 input.sk-toggleable__control:checked~div.sk-toggleable__content {max-height: 200px;max-width: 100%;overflow: auto;}#sk-container-id-3 input.sk-toggleable__control:checked~label.sk-toggleable__label-arrow:before {content: \"▾\";}#sk-container-id-3 div.sk-estimator input.sk-toggleable__control:checked~label.sk-toggleable__label {background-color: #d4ebff;}#sk-container-id-3 div.sk-label input.sk-toggleable__control:checked~label.sk-toggleable__label {background-color: #d4ebff;}#sk-container-id-3 input.sk-hidden--visually {border: 0;clip: rect(1px 1px 1px 1px);clip: rect(1px, 1px, 1px, 1px);height: 1px;margin: -1px;overflow: hidden;padding: 0;position: absolute;width: 1px;}#sk-container-id-3 div.sk-estimator {font-family: monospace;background-color: #f0f8ff;border: 1px dotted black;border-radius: 0.25em;box-sizing: border-box;margin-bottom: 0.5em;}#sk-container-id-3 div.sk-estimator:hover {background-color: #d4ebff;}#sk-container-id-3 div.sk-parallel-item::after {content: \"\";width: 100%;border-bottom: 1px solid gray;flex-grow: 1;}#sk-container-id-3 div.sk-label:hover label.sk-toggleable__label {background-color: #d4ebff;}#sk-container-id-3 div.sk-serial::before {content: \"\";position: absolute;border-left: 1px solid gray;box-sizing: border-box;top: 0;bottom: 0;left: 50%;z-index: 0;}#sk-container-id-3 div.sk-serial {display: flex;flex-direction: column;align-items: center;background-color: white;padding-right: 0.2em;padding-left: 0.2em;position: relative;}#sk-container-id-3 div.sk-item {position: relative;z-index: 1;}#sk-container-id-3 div.sk-parallel {display: flex;align-items: stretch;justify-content: center;background-color: white;position: relative;}#sk-container-id-3 div.sk-item::before, #sk-container-id-3 div.sk-parallel-item::before {content: \"\";position: absolute;border-left: 1px solid gray;box-sizing: border-box;top: 0;bottom: 0;left: 50%;z-index: -1;}#sk-container-id-3 div.sk-parallel-item {display: flex;flex-direction: column;z-index: 1;position: relative;background-color: white;}#sk-container-id-3 div.sk-parallel-item:first-child::after {align-self: flex-end;width: 50%;}#sk-container-id-3 div.sk-parallel-item:last-child::after {align-self: flex-start;width: 50%;}#sk-container-id-3 div.sk-parallel-item:only-child::after {width: 0;}#sk-container-id-3 div.sk-dashed-wrapped {border: 1px dashed gray;margin: 0 0.4em 0.5em 0.4em;box-sizing: border-box;padding-bottom: 0.4em;background-color: white;}#sk-container-id-3 div.sk-label label {font-family: monospace;font-weight: bold;display: inline-block;line-height: 1.2em;}#sk-container-id-3 div.sk-label-container {text-align: center;}#sk-container-id-3 div.sk-container {/* jupyter's `normalize.less` sets `[hidden] { display: none; }` but bootstrap.min.css set `[hidden] { display: none !important; }` so we also need the `!important` here to be able to override the default hidden behavior on the sphinx rendered scikit-learn.org. See: https://github.com/scikit-learn/scikit-learn/issues/21755 */display: inline-block !important;position: relative;}#sk-container-id-3 div.sk-text-repr-fallback {display: none;}</style><div id=\"sk-container-id-3\" class=\"sk-top-container\"><div class=\"sk-text-repr-fallback\"><pre>SVR()</pre><b>In a Jupyter environment, please rerun this cell to show the HTML representation or trust the notebook. <br />On GitHub, the HTML representation is unable to render, please try loading this page with nbviewer.org.</b></div><div class=\"sk-container\" hidden><div class=\"sk-item\"><div class=\"sk-estimator sk-toggleable\"><input class=\"sk-toggleable__control sk-hidden--visually\" id=\"sk-estimator-id-3\" type=\"checkbox\" checked><label for=\"sk-estimator-id-3\" class=\"sk-toggleable__label sk-toggleable__label-arrow\">SVR</label><div class=\"sk-toggleable__content\"><pre>SVR()</pre></div></div></div></div></div>"
            ],
            "text/plain": [
              "SVR()"
            ]
          },
          "execution_count": 51,
          "metadata": {},
          "output_type": "execute_result"
        }
      ],
      "source": [
        "from sklearn.svm import SVC, NuSVC, LinearSVC, OneClassSVM, SVR, NuSVR, LinearSVR\n",
        "\n",
        "svr_1 = SVR() # задача регрессии\n",
        "svr_1.fit(data_X_train, data_y_train)"
      ]
    },
    {
      "cell_type": "code",
      "execution_count": 52,
      "id": "uTTl3kjCpmBA",
      "metadata": {
        "id": "uTTl3kjCpmBA"
      },
      "outputs": [],
      "source": [
        "data_y_pred_1 = svr_1.predict(data_X_test)"
      ]
    },
    {
      "cell_type": "code",
      "execution_count": 53,
      "id": "TvS6mfG0pmDK",
      "metadata": {
        "colab": {
          "base_uri": "https://localhost:8080/"
        },
        "id": "TvS6mfG0pmDK",
        "outputId": "2b9d8546-0ea6-4702-a186-5cc0390c2733"
      },
      "outputs": [
        {
          "data": {
            "text/plain": [
              "(0.12183517774277966, 0.033251900283615854)"
            ]
          },
          "execution_count": 53,
          "metadata": {},
          "output_type": "execute_result"
        }
      ],
      "source": [
        "mean_absolute_error(data_y_test, data_y_pred_1), mean_squared_error(data_y_test, data_y_pred_1)"
      ]
    },
    {
      "cell_type": "markdown",
      "id": "8u3wXrY82sqo",
      "metadata": {
        "id": "8u3wXrY82sqo"
      },
      "source": [
        "## Модель с масштабированием данных"
      ]
    },
    {
      "cell_type": "code",
      "execution_count": 54,
      "id": "Hsf6SJf92G0C",
      "metadata": {
        "id": "Hsf6SJf92G0C"
      },
      "outputs": [],
      "source": [
        "from sklearn.preprocessing import MinMaxScaler\n",
        "\n",
        "scaler = MinMaxScaler()\n",
        "data_scaled = scaler.fit_transform(data)\n",
        "data_scaled = pd.DataFrame(data_scaled, columns=data.columns)"
      ]
    },
    {
      "cell_type": "code",
      "execution_count": 55,
      "id": "NJG5Y8FC2G2h",
      "metadata": {
        "id": "NJG5Y8FC2G2h"
      },
      "outputs": [],
      "source": [
        "target_2 = data_scaled['Defaulted']\n",
        "data_X_train_2, data_X_test_2, data_y_train_2, data_y_test_2 = train_test_split(\n",
        "    data_scaled, target_2, test_size=0.2, random_state=1)"
      ]
    },
    {
      "cell_type": "code",
      "execution_count": 56,
      "id": "PmaVNJHg43oD",
      "metadata": {
        "colab": {
          "base_uri": "https://localhost:8080/",
          "height": 74
        },
        "id": "PmaVNJHg43oD",
        "outputId": "c05444f7-155d-4833-90c6-8e8178e75f9f"
      },
      "outputs": [
        {
          "data": {
            "text/html": [
              "<style>#sk-container-id-4 {color: black;}#sk-container-id-4 pre{padding: 0;}#sk-container-id-4 div.sk-toggleable {background-color: white;}#sk-container-id-4 label.sk-toggleable__label {cursor: pointer;display: block;width: 100%;margin-bottom: 0;padding: 0.3em;box-sizing: border-box;text-align: center;}#sk-container-id-4 label.sk-toggleable__label-arrow:before {content: \"▸\";float: left;margin-right: 0.25em;color: #696969;}#sk-container-id-4 label.sk-toggleable__label-arrow:hover:before {color: black;}#sk-container-id-4 div.sk-estimator:hover label.sk-toggleable__label-arrow:before {color: black;}#sk-container-id-4 div.sk-toggleable__content {max-height: 0;max-width: 0;overflow: hidden;text-align: left;background-color: #f0f8ff;}#sk-container-id-4 div.sk-toggleable__content pre {margin: 0.2em;color: black;border-radius: 0.25em;background-color: #f0f8ff;}#sk-container-id-4 input.sk-toggleable__control:checked~div.sk-toggleable__content {max-height: 200px;max-width: 100%;overflow: auto;}#sk-container-id-4 input.sk-toggleable__control:checked~label.sk-toggleable__label-arrow:before {content: \"▾\";}#sk-container-id-4 div.sk-estimator input.sk-toggleable__control:checked~label.sk-toggleable__label {background-color: #d4ebff;}#sk-container-id-4 div.sk-label input.sk-toggleable__control:checked~label.sk-toggleable__label {background-color: #d4ebff;}#sk-container-id-4 input.sk-hidden--visually {border: 0;clip: rect(1px 1px 1px 1px);clip: rect(1px, 1px, 1px, 1px);height: 1px;margin: -1px;overflow: hidden;padding: 0;position: absolute;width: 1px;}#sk-container-id-4 div.sk-estimator {font-family: monospace;background-color: #f0f8ff;border: 1px dotted black;border-radius: 0.25em;box-sizing: border-box;margin-bottom: 0.5em;}#sk-container-id-4 div.sk-estimator:hover {background-color: #d4ebff;}#sk-container-id-4 div.sk-parallel-item::after {content: \"\";width: 100%;border-bottom: 1px solid gray;flex-grow: 1;}#sk-container-id-4 div.sk-label:hover label.sk-toggleable__label {background-color: #d4ebff;}#sk-container-id-4 div.sk-serial::before {content: \"\";position: absolute;border-left: 1px solid gray;box-sizing: border-box;top: 0;bottom: 0;left: 50%;z-index: 0;}#sk-container-id-4 div.sk-serial {display: flex;flex-direction: column;align-items: center;background-color: white;padding-right: 0.2em;padding-left: 0.2em;position: relative;}#sk-container-id-4 div.sk-item {position: relative;z-index: 1;}#sk-container-id-4 div.sk-parallel {display: flex;align-items: stretch;justify-content: center;background-color: white;position: relative;}#sk-container-id-4 div.sk-item::before, #sk-container-id-4 div.sk-parallel-item::before {content: \"\";position: absolute;border-left: 1px solid gray;box-sizing: border-box;top: 0;bottom: 0;left: 50%;z-index: -1;}#sk-container-id-4 div.sk-parallel-item {display: flex;flex-direction: column;z-index: 1;position: relative;background-color: white;}#sk-container-id-4 div.sk-parallel-item:first-child::after {align-self: flex-end;width: 50%;}#sk-container-id-4 div.sk-parallel-item:last-child::after {align-self: flex-start;width: 50%;}#sk-container-id-4 div.sk-parallel-item:only-child::after {width: 0;}#sk-container-id-4 div.sk-dashed-wrapped {border: 1px dashed gray;margin: 0 0.4em 0.5em 0.4em;box-sizing: border-box;padding-bottom: 0.4em;background-color: white;}#sk-container-id-4 div.sk-label label {font-family: monospace;font-weight: bold;display: inline-block;line-height: 1.2em;}#sk-container-id-4 div.sk-label-container {text-align: center;}#sk-container-id-4 div.sk-container {/* jupyter's `normalize.less` sets `[hidden] { display: none; }` but bootstrap.min.css set `[hidden] { display: none !important; }` so we also need the `!important` here to be able to override the default hidden behavior on the sphinx rendered scikit-learn.org. See: https://github.com/scikit-learn/scikit-learn/issues/21755 */display: inline-block !important;position: relative;}#sk-container-id-4 div.sk-text-repr-fallback {display: none;}</style><div id=\"sk-container-id-4\" class=\"sk-top-container\"><div class=\"sk-text-repr-fallback\"><pre>SVR()</pre><b>In a Jupyter environment, please rerun this cell to show the HTML representation or trust the notebook. <br />On GitHub, the HTML representation is unable to render, please try loading this page with nbviewer.org.</b></div><div class=\"sk-container\" hidden><div class=\"sk-item\"><div class=\"sk-estimator sk-toggleable\"><input class=\"sk-toggleable__control sk-hidden--visually\" id=\"sk-estimator-id-4\" type=\"checkbox\" checked><label for=\"sk-estimator-id-4\" class=\"sk-toggleable__label sk-toggleable__label-arrow\">SVR</label><div class=\"sk-toggleable__content\"><pre>SVR()</pre></div></div></div></div></div>"
            ],
            "text/plain": [
              "SVR()"
            ]
          },
          "execution_count": 56,
          "metadata": {},
          "output_type": "execute_result"
        }
      ],
      "source": [
        "svr_2 = SVR() # задача регрессии\n",
        "svr_2.fit(data_X_train_2, data_y_train_2)"
      ]
    },
    {
      "cell_type": "code",
      "execution_count": 57,
      "id": "vClWh3Ow49VJ",
      "metadata": {
        "id": "vClWh3Ow49VJ"
      },
      "outputs": [],
      "source": [
        "data_y_pred_2 = svr_2.predict(data_X_test_2)"
      ]
    },
    {
      "cell_type": "code",
      "execution_count": 58,
      "id": "SIgCa-So5CI3",
      "metadata": {
        "colab": {
          "base_uri": "https://localhost:8080/"
        },
        "id": "SIgCa-So5CI3",
        "outputId": "0883279a-a2c9-47fc-e524-de2181ca4eab"
      },
      "outputs": [
        {
          "data": {
            "text/plain": [
              "(0.027030693519331128, 0.0011603369274479803)"
            ]
          },
          "execution_count": 58,
          "metadata": {},
          "output_type": "execute_result"
        }
      ],
      "source": [
        "mean_absolute_error(data_y_test_2, data_y_pred_2), mean_squared_error(data_y_test_2, data_y_pred_2)"
      ]
    },
    {
      "cell_type": "markdown",
      "id": "jaqusGTQo1vu",
      "metadata": {
        "id": "jaqusGTQo1vu"
      },
      "source": [
        "# Градиентный бустинг"
      ]
    },
    {
      "cell_type": "markdown",
      "id": "ho1lSSYDo84Z",
      "metadata": {
        "id": "ho1lSSYDo84Z"
      },
      "source": [
        "## Модель градиентного бустинга с использованием библиотеки catboost для бинарной классификации по признаку \"Employed\""
      ]
    },
    {
      "cell_type": "code",
      "execution_count": 59,
      "id": "lVcavhgv-kuc",
      "metadata": {
        "colab": {
          "base_uri": "https://localhost:8080/"
        },
        "id": "lVcavhgv-kuc",
        "outputId": "79cb4c53-d888-430d-93bc-157e72c8342f"
      },
      "outputs": [
        {
          "name": "stdout",
          "output_type": "stream",
          "text": [
            "Requirement already satisfied: catboost in c:\\users\\adolf\\appdata\\local\\programs\\python\\python312\\lib\\site-packages (1.2.5)\n",
            "Requirement already satisfied: graphviz in c:\\users\\adolf\\appdata\\local\\programs\\python\\python312\\lib\\site-packages (from catboost) (0.20.3)\n",
            "Requirement already satisfied: matplotlib in c:\\users\\adolf\\appdata\\local\\programs\\python\\python312\\lib\\site-packages (from catboost) (3.8.2)\n",
            "Requirement already satisfied: numpy>=1.16.0 in c:\\users\\adolf\\appdata\\local\\programs\\python\\python312\\lib\\site-packages (from catboost) (1.26.2)\n",
            "Requirement already satisfied: pandas>=0.24 in c:\\users\\adolf\\appdata\\local\\programs\\python\\python312\\lib\\site-packages (from catboost) (2.1.4)\n",
            "Requirement already satisfied: scipy in c:\\users\\adolf\\appdata\\local\\programs\\python\\python312\\lib\\site-packages (from catboost) (1.11.4)\n",
            "Requirement already satisfied: plotly in c:\\users\\adolf\\appdata\\local\\programs\\python\\python312\\lib\\site-packages (from catboost) (5.21.0)\n",
            "Requirement already satisfied: six in c:\\users\\adolf\\appdata\\local\\programs\\python\\python312\\lib\\site-packages (from catboost) (1.16.0)\n",
            "Requirement already satisfied: python-dateutil>=2.8.2 in c:\\users\\adolf\\appdata\\local\\programs\\python\\python312\\lib\\site-packages (from pandas>=0.24->catboost) (2.8.2)\n",
            "Requirement already satisfied: pytz>=2020.1 in c:\\users\\adolf\\appdata\\local\\programs\\python\\python312\\lib\\site-packages (from pandas>=0.24->catboost) (2023.3.post1)\n",
            "Requirement already satisfied: tzdata>=2022.1 in c:\\users\\adolf\\appdata\\local\\programs\\python\\python312\\lib\\site-packages (from pandas>=0.24->catboost) (2023.3)\n",
            "Requirement already satisfied: contourpy>=1.0.1 in c:\\users\\adolf\\appdata\\local\\programs\\python\\python312\\lib\\site-packages (from matplotlib->catboost) (1.2.0)\n",
            "Requirement already satisfied: cycler>=0.10 in c:\\users\\adolf\\appdata\\local\\programs\\python\\python312\\lib\\site-packages (from matplotlib->catboost) (0.12.1)\n",
            "Requirement already satisfied: fonttools>=4.22.0 in c:\\users\\adolf\\appdata\\local\\programs\\python\\python312\\lib\\site-packages (from matplotlib->catboost) (4.47.0)\n",
            "Requirement already satisfied: kiwisolver>=1.3.1 in c:\\users\\adolf\\appdata\\local\\programs\\python\\python312\\lib\\site-packages (from matplotlib->catboost) (1.4.5)\n",
            "Requirement already satisfied: packaging>=20.0 in c:\\users\\adolf\\appdata\\local\\programs\\python\\python312\\lib\\site-packages (from matplotlib->catboost) (23.2)\n",
            "Requirement already satisfied: pillow>=8 in c:\\users\\adolf\\appdata\\local\\programs\\python\\python312\\lib\\site-packages (from matplotlib->catboost) (10.1.0)\n",
            "Requirement already satisfied: pyparsing>=2.3.1 in c:\\users\\adolf\\appdata\\local\\programs\\python\\python312\\lib\\site-packages (from matplotlib->catboost) (3.1.1)\n",
            "Requirement already satisfied: tenacity>=6.2.0 in c:\\users\\adolf\\appdata\\local\\programs\\python\\python312\\lib\\site-packages (from plotly->catboost) (8.2.3)\n"
          ]
        }
      ],
      "source": [
        "!pip install catboost"
      ]
    },
    {
      "cell_type": "code",
      "execution_count": 61,
      "id": "hU6MfN_5oz2m",
      "metadata": {
        "id": "hU6MfN_5oz2m"
      },
      "outputs": [],
      "source": [
        "from catboost import CatBoostClassifier\n",
        "\n",
        "target_3 = data['Employed']\n",
        "data_X_train_3, data_X_test_3, data_y_train_3, data_y_test_3 = train_test_split(\n",
        "    data, target_3, test_size=0.2, random_state=1)\n",
        "\n",
        "ct = CatBoostClassifier(iterations=100, learning_rate=0.1, depth=6, loss_function='Logloss')\n",
        "\n",
        "ct.fit(data_X_train_3, data_y_train_3, verbose=False)\n",
        "\n",
        "data_y_pred_3 = ct.predict(data_X_test_3)"
      ]
    },
    {
      "cell_type": "code",
      "execution_count": 62,
      "id": "RbSsA3Lj-e-2",
      "metadata": {
        "colab": {
          "base_uri": "https://localhost:8080/"
        },
        "id": "RbSsA3Lj-e-2",
        "outputId": "ddb72d71-9407-4c45-ec0f-84677e9ec351"
      },
      "outputs": [
        {
          "data": {
            "text/plain": [
              "(0.0, 0.0)"
            ]
          },
          "execution_count": 62,
          "metadata": {},
          "output_type": "execute_result"
        }
      ],
      "source": [
        "mean_absolute_error(data_y_test_3, data_y_pred_3), mean_squared_error(data_y_test_3, data_y_pred_3)"
      ]
    },
    {
      "cell_type": "code",
      "execution_count": 63,
      "id": "tPCjKBtr_OC4",
      "metadata": {
        "colab": {
          "base_uri": "https://localhost:8080/"
        },
        "id": "tPCjKBtr_OC4",
        "outputId": "96079ea2-7ee8-42ba-d47b-df088656c0b9"
      },
      "outputs": [
        {
          "data": {
            "text/plain": [
              "1.0"
            ]
          },
          "execution_count": 63,
          "metadata": {},
          "output_type": "execute_result"
        }
      ],
      "source": [
        "accuracy_score(data_y_test_3, data_y_pred_3)"
      ]
    },
    {
      "cell_type": "code",
      "execution_count": 64,
      "id": "11Irjhro_g_P",
      "metadata": {
        "colab": {
          "base_uri": "https://localhost:8080/"
        },
        "id": "11Irjhro_g_P",
        "outputId": "67a8e6a8-0d8b-46ce-bde4-664e1766bd35"
      },
      "outputs": [
        {
          "data": {
            "text/plain": [
              "1.0"
            ]
          },
          "execution_count": 64,
          "metadata": {},
          "output_type": "execute_result"
        }
      ],
      "source": [
        "f1_score(data_y_test_3, data_y_pred_3, average='micro')"
      ]
    },
    {
      "cell_type": "code",
      "execution_count": 65,
      "id": "n_uFU87x_oIn",
      "metadata": {
        "colab": {
          "base_uri": "https://localhost:8080/"
        },
        "id": "n_uFU87x_oIn",
        "outputId": "dd443c3a-c031-445e-c903-50b33dc7f404"
      },
      "outputs": [
        {
          "data": {
            "text/plain": [
              "1.0"
            ]
          },
          "execution_count": 65,
          "metadata": {},
          "output_type": "execute_result"
        }
      ],
      "source": [
        "\n",
        "f1_score(data_y_test_3, data_y_pred_3, average='macro')"
      ]
    },
    {
      "cell_type": "code",
      "execution_count": 66,
      "id": "5YTBl-El_pAJ",
      "metadata": {
        "colab": {
          "base_uri": "https://localhost:8080/"
        },
        "id": "5YTBl-El_pAJ",
        "outputId": "8ab3f2b2-4b86-4d7e-bcb2-0b45f6127b98"
      },
      "outputs": [
        {
          "data": {
            "text/plain": [
              "1.0"
            ]
          },
          "execution_count": 66,
          "metadata": {},
          "output_type": "execute_result"
        }
      ],
      "source": [
        "f1_score(data_y_test_3, data_y_pred_3, average='weighted')"
      ]
    },
    {
      "cell_type": "markdown",
      "id": "hFvsHrH7_wOf",
      "metadata": {
        "id": "hFvsHrH7_wOf"
      },
      "source": [
        "**Вывод**: модель градиентного бустинга показала себя лучше, чем модель, основанная на методе опорных векторов"
      ]
    }
  ],
  "metadata": {
    "colab": {
      "provenance": []
    },
    "kernelspec": {
      "display_name": "Python 3 (ipykernel)",
      "language": "python",
      "name": "python3"
    },
    "language_info": {
      "codemirror_mode": {
        "name": "ipython",
        "version": 3
      },
      "file_extension": ".py",
      "mimetype": "text/x-python",
      "name": "python",
      "nbconvert_exporter": "python",
      "pygments_lexer": "ipython3",
      "version": "3.12.1"
    }
  },
  "nbformat": 4,
  "nbformat_minor": 5
}
